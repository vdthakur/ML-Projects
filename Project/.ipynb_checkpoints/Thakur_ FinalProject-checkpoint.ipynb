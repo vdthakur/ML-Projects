{
 "cells": [
  {
   "cell_type": "code",
   "execution_count": 1,
   "id": "770e9e52",
   "metadata": {},
   "outputs": [],
   "source": [
    "import os\n",
    "import re\n",
    "import numpy as np\n",
    "import matplotlib.pyplot as plt"
   ]
  },
  {
   "cell_type": "markdown",
   "id": "783ef372",
   "metadata": {},
   "source": [
    "# 1. Text Classification\n",
    "\n",
    "### It is highly recommended that you complete this project using Keras1 and Python.\n",
    "### (a) In this problem, we are trying to build a classifier to analyze the sentiment of reviews. \n",
    "### You are provided with text data in two folders: one folder involves positive reviews, and one folder involves negative reviews."
   ]
  },
  {
   "cell_type": "markdown",
   "id": "b367f679",
   "metadata": {},
   "source": [
    "# (b) Data Exploration and Pre-Processing"
   ]
  },
  {
   "cell_type": "markdown",
   "id": "04d75e7a",
   "metadata": {},
   "source": [
    "vii. To represent each text (= data point), there are many ways. In NLP/Deep Learning terminology, this task is called tokenization. It is common to rep- resent text using popularity/ rank of words in text. The most common word in the text will be represented as 1, the second most common word will be represented as 2, etc. Tokenize each text document using this method.2\n",
    "\n",
    "viii. Select a review length L that 70% of the reviews have a length below it. If you feel more adventurous, set the threshold to 90%.\n",
    "\n",
    "ix. Truncate reviews longer than L words and zero-pad reviews shorter than L so that all texts (= data points) are of length L.3"
   ]
  },
  {
   "cell_type": "markdown",
   "id": "16cc0eca",
   "metadata": {},
   "source": [
    "### i. You can use binary encoding for the sentiments , i.e y = 1 for positive sentiments and y = −1 for negative sentiments.\n",
    "\n",
    "### ii. The data are pretty clean. Remove the punctuation and numbers from the data.\n",
    "\n",
    "### iii. The name of each text file starts with cv number. Use text files 0-699 in each class for training and 700-999 for testing.\n"
   ]
  },
  {
   "cell_type": "code",
   "execution_count": 64,
   "id": "5aabf12d",
   "metadata": {},
   "outputs": [],
   "source": [
    "def clean_split_encode_files(filepath,encode):\n",
    "    reviews = filepath\n",
    "    files = os.listdir(reviews)\n",
    "    train_files = []\n",
    "    test_files = []\n",
    "    for filename in files:\n",
    "            number = int(filename[2:5]) \n",
    "            if 0 <= number < 700:\n",
    "                train_files.append(filename)\n",
    "            elif 700 <= number <= 999:\n",
    "                test_files.append(filename)\n",
    "\n",
    "    train_data = [open(os.path.join(reviews, file), 'r', encoding='utf-8').read() for file in train_files]\n",
    "    train_data = [re.sub(r'\\d+', '', word) for word in train_data]\n",
    "    train_data = [re.sub(r'[^\\w\\s]', ' ', word) for word in train_data]\n",
    "    train_data = [word.lower() for word in train_data]\n",
    "    train_data = [word.replace('\\n', ' ') for word in train_data]\n",
    "    train_data = [word.replace(\"_\", \" \") for word in train_data]\n",
    "    train_data = [word.replace(\"-\", \" \") for word in train_data]\n",
    "    train_labeled = [(text, encode) for text in train_data]\n",
    "\n",
    "    test_data = [open(os.path.join(reviews, file), 'r', encoding='utf-8').read() for file in test_files]\n",
    "    test_data = [re.sub(r'\\d+', '', word) for word in test_data]\n",
    "    test_data = [re.sub(r'[^\\w\\s]', ' ', word) for word in test_data]\n",
    "    test_data = [word.lower() for word in test_data]\n",
    "    test_data = [word.replace('\\n', ' ') for word in test_data]\n",
    "    test_data = [word.replace(\"_\", \" \") for word in test_data]\n",
    "    test_data = [word.replace(\"-\", \" \") for word in test_data]\n",
    "    test_labeled = [(text, encode) for text in test_data]\n",
    "    \n",
    "    return train_labeled, test_labeled"
   ]
  },
  {
   "cell_type": "code",
   "execution_count": 65,
   "id": "bd40cdf8",
   "metadata": {},
   "outputs": [],
   "source": [
    "neg_train, neg_test = clean_split_encode_files(\"../Project/Data/neg\",-1)\n",
    "pos_train, pos_test = clean_split_encode_files(\"../Project/Data/pos\",-1)\n",
    "train_data = neg_train + pos_train\n",
    "test_data = neg_test + pos_test"
   ]
  },
  {
   "cell_type": "markdown",
   "id": "20e1d0fe",
   "metadata": {},
   "source": [
    "### iv. Count the number of unique words in the whole dataset (train + test) and print it out."
   ]
  },
  {
   "cell_type": "code",
   "execution_count": 69,
   "id": "4ba3d08a",
   "metadata": {},
   "outputs": [
    {
     "name": "stdout",
     "output_type": "stream",
     "text": [
      "Number of Unique Words: 38916\n"
     ]
    }
   ],
   "source": [
    "total_data = train_data + test_data\n",
    "unique_words = set()\n",
    "for text, label in total_data:\n",
    "    words = text.lower().split()\n",
    "    unique_words.update(words) \n",
    "print(\"Number of Unique Words:\", len(unique_words))"
   ]
  },
  {
   "cell_type": "markdown",
   "id": "661a5711",
   "metadata": {},
   "source": [
    "### v. Calculate the average review length and the standard deviation of review lengths. Report the results."
   ]
  },
  {
   "cell_type": "code",
   "execution_count": 67,
   "id": "6a8604c3",
   "metadata": {},
   "outputs": [
    {
     "name": "stdout",
     "output_type": "stream",
     "text": [
      "The average review length is 665.6105\n",
      "The standard deviation of review length is 293.6496599517016\n"
     ]
    }
   ],
   "source": [
    "review_lengths = [len(review.split()) for review, sentiment in total_data]\n",
    "average_length = np.mean(review_lengths)\n",
    "std_length = np.std(review_lengths)\n",
    "print(\"The average review length is\",average_length)\n",
    "print(\"The standard deviation of review length is\",std_length)"
   ]
  },
  {
   "cell_type": "markdown",
   "id": "579ff5db",
   "metadata": {},
   "source": [
    "### vi. Plot the histogram of review lengths."
   ]
  },
  {
   "cell_type": "code",
   "execution_count": 68,
   "id": "276dda7a",
   "metadata": {},
   "outputs": [
    {
     "data": {
      "image/png": "[encoded data removed]",
      "text/plain": [
       "<Figure size 800x400 with 1 Axes>"
      ]
     },
     "metadata": {},
     "output_type": "display_data"
    }
   ],
   "source": [
    "plt.figure(figsize=(8, 4))\n",
    "plt.hist(review_lengths, bins=15, color='red', edgecolor='black') \n",
    "plt.title('Histogram of Review Lengths')\n",
    "plt.xlabel('Review Length (number of words)')\n",
    "plt.ylabel('Occurences')\n",
    "plt.show()"
   ]
  },
  {
   "cell_type": "code",
   "execution_count": null,
   "id": "f5145d43",
   "metadata": {},
   "outputs": [],
   "source": []
  }
 ],
 "metadata": {
  "kernelspec": {
   "display_name": "Python 3 (ipykernel)",
   "language": "python",
   "name": "python3"
  },
  "language_info": {
   "codemirror_mode": {
    "name": "ipython",
    "version": 3
   },
   "file_extension": ".py",
   "mimetype": "text/x-python",
   "name": "python",
   "nbconvert_exporter": "python",
   "pygments_lexer": "ipython3",
   "version": "3.11.7"
  }
 },
 "nbformat": 4,
 "nbformat_minor": 5
}
